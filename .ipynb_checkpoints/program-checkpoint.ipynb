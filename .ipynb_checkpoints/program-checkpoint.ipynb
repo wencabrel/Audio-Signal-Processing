{
 "cells": [
  {
   "cell_type": "code",
   "execution_count": null,
   "metadata": {},
   "outputs": [
    {
     "name": "stderr",
     "output_type": "stream",
     "text": [
      "D:\\Anaconda\\lib\\site-packages\\llvmlite\\llvmpy\\__init__.py:3: UserWarning: The module `llvmlite.llvmpy` is deprecated and will be removed in the future.\n",
      "  warnings.warn(\n",
      "D:\\Anaconda\\lib\\site-packages\\llvmlite\\llvmpy\\core.py:8: UserWarning: The module `llvmlite.llvmpy.core` is deprecated and will be removed in the future. Equivalent functionality is provided by `llvmlite.ir`.\n",
      "  warnings.warn(\n",
      "D:\\Anaconda\\lib\\site-packages\\llvmlite\\llvmpy\\passes.py:17: UserWarning: The module `llvmlite.llvmpy.passes` is deprecated and will be removed in the future. If you are using this code, it should be inlined into your own project.\n",
      "  warnings.warn(\n"
     ]
    }
   ],
   "source": [
    "import librosa\n",
    "import librosa.display\n",
    "import IPython.display as ipd\n",
    "import matplotlib.pyplot as plt\n",
    "import numpy as np"
   ]
  },
  {
   "cell_type": "code",
   "execution_count": null,
   "metadata": {},
   "outputs": [],
   "source": [
    "# we load audio files we will start with 2 in our case and it will be manually \n",
    "# I have to mention that all of them are located in the same directory but not same file \n",
    "# so we have the precise thiers file's location in our code \n",
    "\n",
    "baracuda_audio = \"audio1/baracuda.wav\"\n",
    "fullbit_audio = \"audio1/fullbit.wav\""
   ]
  },
  {
   "cell_type": "code",
   "execution_count": null,
   "metadata": {},
   "outputs": [],
   "source": [
    "ipd.Audio(baracuda_audio)"
   ]
  },
  {
   "cell_type": "code",
   "execution_count": null,
   "metadata": {},
   "outputs": [],
   "source": [
    "ipd.Audio(fullbit_audio)"
   ]
  },
  {
   "cell_type": "code",
   "execution_count": null,
   "metadata": {},
   "outputs": [],
   "source": [
    "baracuda, sr = librosa.load(baracuda_audio)\n",
    "baracuda, sr"
   ]
  },
  {
   "cell_type": "code",
   "execution_count": null,
   "metadata": {},
   "outputs": [],
   "source": [
    "fullbit, sr = librosa.load(fullbit_audio)\n",
    "fullbit, sr"
   ]
  },
  {
   "cell_type": "code",
   "execution_count": null,
   "metadata": {},
   "outputs": [],
   "source": [
    "baracuda.size"
   ]
  },
  {
   "cell_type": "code",
   "execution_count": null,
   "metadata": {},
   "outputs": [],
   "source": [
    "# let's check the Sample's duration\n",
    "baracuda, sr = librosa.load(baracuda_audio)\n",
    "baracuda, sr\n",
    "#librosa.get_duration(baracuda=baracuda, sr=sr)"
   ]
  },
  {
   "cell_type": "code",
   "execution_count": null,
   "metadata": {},
   "outputs": [],
   "source": [
    "librosa.get_duration(y=baracuda, sr=sr)"
   ]
  },
  {
   "cell_type": "code",
   "execution_count": null,
   "metadata": {},
   "outputs": [],
   "source": [
    "# let's check whether the method is right\n",
    "# let's calculate the duration of a sample\n",
    "\n",
    "baracuda, sr = librosa.load(baracuda_audio)\n",
    "duration_sample = 1 / sr\n",
    "print(f\"the duration of a sample is {duration_sample: .8f} seconds\")"
   ]
  },
  {
   "cell_type": "code",
   "execution_count": null,
   "metadata": {},
   "outputs": [],
   "source": [
    "# let's us compute the duration from the sample duration above\n",
    "duration = duration_sample * len(baracuda)\n",
    "print(f\"the duration of baracuda_audio is {duration: .5f} seconds\")"
   ]
  },
  {
   "cell_type": "code",
   "execution_count": null,
   "metadata": {},
   "outputs": [],
   "source": [
    "# waveform visualization\n",
    "# what we intend to to here, is to plot the waveform from all the audios signal vertically\n",
    "# librosa.display.waveplot didn't work on my jupyter that is why i used librosa.display.waveshow\n",
    "plt.figure(figsize=(7, 7))\n",
    "plt.subplot(2, 1 ,1)\n",
    "librosa.display.waveshow(baracuda, alpha=0.5)\n",
    "plt.title(\"baracuda\")\n",
    "plt.ylim((-1, 1))\n",
    "\n",
    "plt.subplot(2, 1 ,2)\n",
    "librosa.display.waveshow(fullbit, alpha=0.5)\n",
    "plt.title(\"fullaudio\")\n",
    "plt.ylim((-1, 1))\n",
    "\n",
    "plt.show()"
   ]
  },
  {
   "cell_type": "code",
   "execution_count": null,
   "metadata": {},
   "outputs": [],
   "source": [
    "#let's compute the amplitude of the envelop of those two audios or music we have downloaded\n",
    "# to calculate the amplitude of a fram from a specific frame,what we want to do is: take the maximun value\n",
    "# Amplitude calculated across all the sample at that given fram and for getting the amplitude envelope for\n",
    "# the whole signal, we take the max amplitude for each frame and we just append that \n",
    "Frame_Size = 1024\n",
    "Hop_length = 512\n",
    "\n",
    "def amplitude_envelope(signal, Frame_Size, Hop_length):\n",
    "    amplitude_envelope = []\n",
    "    # we calculate the Amplitude Envelope for each fram\n",
    "    for i in range(0, len(signal), Hop_length):\n",
    "        current_frame_amplitude_envelope = max(signal[i: i + Frame_Size])\n",
    "        amplitude_envelope.append(current_frame_amplitude_envelope)\n",
    "        \n",
    "    return np.array(amplitude_envelope)\n",
    "# another methode will be \n",
    "def anotherway_amplitude(signal, Frame_Size, Hop_length):\n",
    "    return np.array([max(signal[i: i + Frame_Size]) for i in range(0, signal.size, Hop_length)])"
   ]
  },
  {
   "cell_type": "code",
   "execution_count": null,
   "metadata": {},
   "outputs": [],
   "source": [
    "amplitude_baracuda = amplitude_envelope(baracuda, Frame_Size, Hop_length)\n",
    "len(amplitude_baracuda)"
   ]
  },
  {
   "cell_type": "code",
   "execution_count": null,
   "metadata": {},
   "outputs": [],
   "source": [
    "anotherway_baracuda = anotherway_amplitude(baracuda, Frame_Size, Hop_length)\n",
    "len(anotherway_baracuda)"
   ]
  },
  {
   "cell_type": "code",
   "execution_count": null,
   "metadata": {},
   "outputs": [],
   "source": [
    "#let's use the comparaison\n",
    "(amplitude_baracuda == anotherway_baracuda).all()"
   ]
  },
  {
   "cell_type": "code",
   "execution_count": null,
   "metadata": {},
   "outputs": [],
   "source": [
    "amplitude_fullbit = amplitude_envelope(fullbit, Frame_Size, Hop_length)"
   ]
  },
  {
   "cell_type": "code",
   "execution_count": null,
   "metadata": {},
   "outputs": [],
   "source": [
    "#let's plot the amplitude of each audio signal\n",
    "Frames = range(0, amplitude_baracuda.size)\n",
    "t = librosa.frames_to_time(Frames, hop_length = Hop_length)\n",
    "\n",
    "# since baracuda and fullbit don't have same length, i have to make different t\n",
    "\n",
    "Framess = range(0, amplitude_fullbit.size)\n",
    "t1 = librosa.frames_to_time(Framess, hop_length = Hop_length)\n",
    "\n",
    "plt.figure(figsize=(10, 10))\n",
    "plt.subplot(2, 1 ,1)\n",
    "librosa.display.waveshow(baracuda, alpha=0.9)\n",
    "plt.plot(t, amplitude_baracuda, color= \"r\")\n",
    "plt.title(\"baracuda\")\n",
    "plt.ylim((-1, 1))\n",
    "\n",
    "plt.subplot(2, 1 ,2)\n",
    "librosa.display.waveshow(fullbit, alpha=0.9)\n",
    "plt.plot(t1, amplitude_fullbit, color= \"r\")\n",
    "plt.title(\"fullbit\")\n",
    "plt.ylim((-1, 1))\n",
    "\n",
    "plt.show()"
   ]
  }
 ],
 "metadata": {
  "kernelspec": {
   "display_name": "Python 3 (ipykernel)",
   "language": "python",
   "name": "python3"
  },
  "language_info": {
   "codemirror_mode": {
    "name": "ipython",
    "version": 3
   },
   "file_extension": ".py",
   "mimetype": "text/x-python",
   "name": "python",
   "nbconvert_exporter": "python",
   "pygments_lexer": "ipython3",
   "version": "3.9.12"
  },
  "vscode": {
   "interpreter": {
    "hash": "a9cff5a362bc38ef45d817ae74b1af54d6a076e3d773891282bce078b815ba34"
   }
  }
 },
 "nbformat": 4,
 "nbformat_minor": 2
}
