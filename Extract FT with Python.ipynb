{
 "cells": [
  {
   "cell_type": "code",
   "execution_count": 1,
   "id": "ca0f72d3",
   "metadata": {},
   "outputs": [
    {
     "name": "stderr",
     "output_type": "stream",
     "text": [
      "D:\\Anaconda\\lib\\site-packages\\llvmlite\\llvmpy\\__init__.py:3: UserWarning: The module `llvmlite.llvmpy` is deprecated and will be removed in the future.\n",
      "  warnings.warn(\n",
      "D:\\Anaconda\\lib\\site-packages\\llvmlite\\llvmpy\\core.py:8: UserWarning: The module `llvmlite.llvmpy.core` is deprecated and will be removed in the future. Equivalent functionality is provided by `llvmlite.ir`.\n",
      "  warnings.warn(\n",
      "D:\\Anaconda\\lib\\site-packages\\llvmlite\\llvmpy\\passes.py:17: UserWarning: The module `llvmlite.llvmpy.passes` is deprecated and will be removed in the future. If you are using this code, it should be inlined into your own project.\n",
      "  warnings.warn(\n",
      "<frozen importlib._bootstrap>:228: RuntimeWarning: scipy._lib.messagestream.MessageStream size changed, may indicate binary incompatibility. Expected 56 from C header, got 64 from PyObject\n"
     ]
    }
   ],
   "source": [
    "import librosa\n",
    "import matplotlib.pyplot as plt\n",
    "import librosa.display\n",
    "import numpy as np\n",
    "import IPython.display as ipd"
   ]
  },
  {
   "cell_type": "code",
   "execution_count": 8,
   "id": "a8d96d0d",
   "metadata": {},
   "outputs": [],
   "source": [
    "baracuda_audio = \"audio1/baracuda.wav\""
   ]
  },
  {
   "cell_type": "code",
   "execution_count": 9,
   "id": "c375d256",
   "metadata": {},
   "outputs": [],
   "source": [
    "baracuda, sr = librosa.load(baracuda_audio, duration= 15)\n",
    "# ipd.Audio(baracuda_audio)"
   ]
  },
  {
   "cell_type": "code",
   "execution_count": 10,
   "id": "3a6ee95a",
   "metadata": {},
   "outputs": [
    {
     "data": {
      "text/plain": [
       "(330750,)"
      ]
     },
     "execution_count": 10,
     "metadata": {},
     "output_type": "execute_result"
    }
   ],
   "source": [
    "baracuda.shape"
   ]
  },
  {
   "cell_type": "code",
   "execution_count": 11,
   "id": "178f57d7",
   "metadata": {},
   "outputs": [],
   "source": [
    "# let's extract the fourier transform\n",
    "baracuda_ft = np.fft.fft(baracuda)"
   ]
  },
  {
   "cell_type": "code",
   "execution_count": 12,
   "id": "b823272e",
   "metadata": {},
   "outputs": [
    {
     "data": {
      "text/plain": [
       "(330750,)"
      ]
     },
     "execution_count": 12,
     "metadata": {},
     "output_type": "execute_result"
    }
   ],
   "source": [
    "baracuda_ft.shape"
   ]
  },
  {
   "cell_type": "code",
   "execution_count": 13,
   "id": "24fd0136",
   "metadata": {},
   "outputs": [
    {
     "data": {
      "text/plain": [
       "(-0.15879706245838643+0.48309137680476555j)"
      ]
     },
     "execution_count": 13,
     "metadata": {},
     "output_type": "execute_result"
    }
   ],
   "source": [
    "baracuda_ft[1]"
   ]
  },
  {
   "cell_type": "code",
   "execution_count": 14,
   "id": "c1a621b6",
   "metadata": {},
   "outputs": [],
   "source": [
    "# let's get the magnitude spectrum\n",
    "\n",
    "magnitude_spec_baracuda = np.abs(baracuda_ft)"
   ]
  },
  {
   "cell_type": "code",
   "execution_count": 15,
   "id": "e11a47f1",
   "metadata": {},
   "outputs": [
    {
     "data": {
      "text/plain": [
       "0.6118494015467838"
      ]
     },
     "execution_count": 15,
     "metadata": {},
     "output_type": "execute_result"
    }
   ],
   "source": [
    "magnitude_spec_baracuda[3]"
   ]
  },
  {
   "cell_type": "code",
   "execution_count": 16,
   "id": "14b08917",
   "metadata": {},
   "outputs": [],
   "source": [
    "def magnitude_spectrum(audio_signal, title, sr, freq_ratio = 1):\n",
    "    ft = np.fft.fft(audio_signal)\n",
    "    magnitude_spectrum = np.abs(ft)\n",
    "    \n",
    "    # plot the magnitude spectrum\n",
    "    plt.figure(figsize=(15, 5))\n",
    "    \n",
    "    frequency = np.linspace(0, sr, len(magnitude_spectrum))\n",
    "    num_frequency_beam = int(len(frequency) * freq_ratio)\n",
    "    plt.plot(frequency[:num_frequency_beam], magnitude_spectrum[:num_frequency_beam])\n",
    "    plt.xlabel(\"Frequency in (Hz)\")\n",
    "    plt.title(title)\n",
    "    plt.show()"
   ]
  },
  {
   "cell_type": "code",
   "execution_count": 17,
   "id": "f337211d",
   "metadata": {},
   "outputs": [
    {
     "data": {
      "image/png": "[encoded data removed]",
      "text/plain": [
       "<Figure size 1080x360 with 1 Axes>"
      ]
     },
     "metadata": {
      "needs_background": "light"
     },
     "output_type": "display_data"
    }
   ],
   "source": [
    "magnitude_spectrum(baracuda, \"baracuda_audio\", sr, 0.09)"
   ]
  },
  {
   "cell_type": "code",
   "execution_count": 51,
   "id": "ed7a577e",
   "metadata": {},
   "outputs": [
    {
     "data": {
      "text/plain": [
       "22050"
      ]
     },
     "execution_count": 51,
     "metadata": {},
     "output_type": "execute_result"
    }
   ],
   "source": [
    "sr"
   ]
  },
  {
   "cell_type": "code",
   "execution_count": 52,
   "id": "fce51aaa",
   "metadata": {},
   "outputs": [
    {
     "data": {
      "text/plain": [
       "330750"
      ]
     },
     "execution_count": 52,
     "metadata": {},
     "output_type": "execute_result"
    }
   ],
   "source": [
    "len(baracuda)"
   ]
  },
  {
   "cell_type": "code",
   "execution_count": null,
   "id": "1f7b62cd",
   "metadata": {},
   "outputs": [],
   "source": []
  }
 ],
 "metadata": {
  "kernelspec": {
   "display_name": "Python 3 (ipykernel)",
   "language": "python",
   "name": "python3"
  },
  "language_info": {
   "codemirror_mode": {
    "name": "ipython",
    "version": 3
   },
   "file_extension": ".py",
   "mimetype": "text/x-python",
   "name": "python",
   "nbconvert_exporter": "python",
   "pygments_lexer": "ipython3",
   "version": "3.9.12"
  }
 },
 "nbformat": 4,
 "nbformat_minor": 5
}
